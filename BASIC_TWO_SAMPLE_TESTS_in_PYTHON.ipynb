{
  "nbformat": 4,
  "nbformat_minor": 0,
  "metadata": {
    "colab": {
      "provenance": [],
      "authorship_tag": "ABX9TyPEx9SSJGZFyoBteX99yJ9v",
      "include_colab_link": true
    },
    "kernelspec": {
      "name": "python3",
      "display_name": "Python 3"
    },
    "language_info": {
      "name": "python"
    }
  },
  "cells": [
    {
      "cell_type": "markdown",
      "metadata": {
        "id": "view-in-github",
        "colab_type": "text"
      },
      "source": [
        "<a href=\"https://colab.research.google.com/github/KenDaupsey/Two-Sample-Tests-in-Python/blob/main/BASIC_TWO_SAMPLE_TESTS_in_PYTHON.ipynb\" target=\"_parent\"><img src=\"https://colab.research.google.com/assets/colab-badge.svg\" alt=\"Open In Colab\"/></a>"
      ]
    },
    {
      "cell_type": "markdown",
      "source": [
        "*** TWO-SAMPLE TESTS ***"
      ],
      "metadata": {
        "id": "4SsR0dm05OMf"
      }
    },
    {
      "cell_type": "code",
      "source": [
        "### IMPORT NECESSARY LIBRARIES\n",
        "import pandas as pd\n",
        "import numpy as np\n",
        "import matplotlib.pyplot as plt\n",
        "%matplotlib inline"
      ],
      "metadata": {
        "id": "7FPCXsFC4-lC"
      },
      "execution_count": 1,
      "outputs": []
    },
    {
      "cell_type": "markdown",
      "source": [
        "* Two independent samples t-test *"
      ],
      "metadata": {
        "id": "W6u1RT-W6D1O"
      }
    },
    {
      "cell_type": "code",
      "source": [
        "# Load the dataset from GitHub URL\n",
        "url = \"https://raw.githubusercontent.com/KenDaupsey/Two-Sample-Tests-in-Python/main/hsb2%7Edata.csv\"\n",
        "df = pd.read_csv(url)\n",
        "\n",
        "# Display the first 5 rows of the dataset\n",
        "print(df.head())"
      ],
      "metadata": {
        "colab": {
          "base_uri": "https://localhost:8080/"
        },
        "id": "aaoI6Fcn5kLa",
        "outputId": "12ae9718-97ad-4cd5-9ce4-984be23331d6"
      },
      "execution_count": 2,
      "outputs": [
        {
          "output_type": "stream",
          "name": "stdout",
          "text": [
            "    id  female   race     ses  schtyp      prog  read  write  math  science  \\\n",
            "0   70    male  white     low  public   general    57     52    41       47   \n",
            "1  121  female  white  middle  public  vocation    68     59    53       63   \n",
            "2   86    male  white    high  public   general    44     33    54       58   \n",
            "3  141    male  white    high  public  vocation    63     44    47       53   \n",
            "4  172    male  white  middle  public  academic    47     52    57       53   \n",
            "\n",
            "   socst  \n",
            "0     57  \n",
            "1     61  \n",
            "2     31  \n",
            "3     56  \n",
            "4     61  \n"
          ]
        }
      ]
    },
    {
      "cell_type": "code",
      "source": [
        "### TWO SAMPLE T TEST WITH SCIPY\n",
        "\n",
        "import scipy.stats as stats\n",
        "#import pandas as pd\n",
        "\n",
        "# Assuming df is your DataFrame\n",
        "# Extract 'write' scores for male and female students\n",
        "write_male = df[df['female'] == 'male']['write']\n",
        "write_female = df[df['female'] == 'female']['write']\n",
        "\n",
        "# Perform a 2-sample t-test\n",
        "t_statistic, p_value = stats.ttest_ind(write_male, write_female)\n",
        "\n",
        "# Print the result with p-value as a decimal\n",
        "print(f\"T-statistic: {t_statistic:.4f}, P-value: {p_value:.4f}\")\n",
        "\n",
        "# Interpret the results\n",
        "if p_value < 0.05:\n",
        "    print(\"The difference in 'write' scores between male and female students is statistically significant.\")\n",
        "else:\n",
        "    print(\"There is no significant difference in 'write' scores between male and female students.\")"
      ],
      "metadata": {
        "colab": {
          "base_uri": "https://localhost:8080/"
        },
        "id": "Pe-Op0XL6Ojq",
        "outputId": "a394cca3-faac-416a-f177-3ffb89cea761"
      },
      "execution_count": 3,
      "outputs": [
        {
          "output_type": "stream",
          "name": "stdout",
          "text": [
            "T-statistic: -3.7341, P-value: 0.0002\n",
            "The difference in 'write' scores between male and female students is statistically significant.\n"
          ]
        }
      ]
    },
    {
      "cell_type": "code",
      "source": [
        "### TWO SAMPLE T TEST WITH RESEARCHPY foloows below"
      ],
      "metadata": {
        "id": "qCgUfLm26OiJ"
      },
      "execution_count": 4,
      "outputs": []
    },
    {
      "cell_type": "code",
      "source": [
        "### Firts, you will have to install the \"researchpy\" library\n",
        "!pip install researchpy"
      ],
      "metadata": {
        "colab": {
          "base_uri": "https://localhost:8080/"
        },
        "id": "ee6-l2cM6OE-",
        "outputId": "592ef5c4-c757-4049-d8f7-239e01cdb2dc"
      },
      "execution_count": 5,
      "outputs": [
        {
          "output_type": "stream",
          "name": "stdout",
          "text": [
            "Requirement already satisfied: researchpy in /usr/local/lib/python3.10/dist-packages (0.3.5)\n",
            "Requirement already satisfied: scipy in /usr/local/lib/python3.10/dist-packages (from researchpy) (1.11.4)\n",
            "Requirement already satisfied: numpy in /usr/local/lib/python3.10/dist-packages (from researchpy) (1.25.2)\n",
            "Requirement already satisfied: pandas in /usr/local/lib/python3.10/dist-packages (from researchpy) (1.5.3)\n",
            "Requirement already satisfied: statsmodels in /usr/local/lib/python3.10/dist-packages (from researchpy) (0.14.1)\n",
            "Requirement already satisfied: patsy in /usr/local/lib/python3.10/dist-packages (from researchpy) (0.5.6)\n",
            "Requirement already satisfied: python-dateutil>=2.8.1 in /usr/local/lib/python3.10/dist-packages (from pandas->researchpy) (2.8.2)\n",
            "Requirement already satisfied: pytz>=2020.1 in /usr/local/lib/python3.10/dist-packages (from pandas->researchpy) (2023.4)\n",
            "Requirement already satisfied: six in /usr/local/lib/python3.10/dist-packages (from patsy->researchpy) (1.16.0)\n",
            "Requirement already satisfied: packaging>=21.3 in /usr/local/lib/python3.10/dist-packages (from statsmodels->researchpy) (23.2)\n"
          ]
        }
      ]
    },
    {
      "cell_type": "code",
      "source": [
        "# Independent t-test\n",
        "\n",
        "import researchpy as rp\n",
        "\n",
        "# If you don't store the 2 returned DataFrames, it outputs as a tuple and\n",
        "# is displayed\n",
        "rp.ttest(df['math'], df['write'])"
      ],
      "metadata": {
        "colab": {
          "base_uri": "https://localhost:8080/"
        },
        "id": "QjuH1JOt7Mua",
        "outputId": "e29d931a-67ce-4bf9-e073-fb5a1afb56a7"
      },
      "execution_count": 6,
      "outputs": [
        {
          "output_type": "stream",
          "name": "stderr",
          "text": [
            "/usr/local/lib/python3.10/dist-packages/researchpy/ttest.py:38: FutureWarning: The series.append method is deprecated and will be removed from pandas in a future version. Use pandas.concat instead.\n",
            "  groups = group1.append(group2, ignore_index= True)\n"
          ]
        },
        {
          "output_type": "execute_result",
          "data": {
            "text/plain": [
              "(   Variable      N    Mean        SD        SE  95% Conf.   Interval\n",
              " 0      math  200.0  52.645  9.368448  0.662449  51.338679  53.951321\n",
              " 1     write  200.0  52.775  9.478586  0.670237  51.453321  54.096679\n",
              " 2  combined  400.0  52.710  9.412086  0.470604  51.784826  53.635174,\n",
              "              Independent t-test   results\n",
              " 0  Difference (math - write) =    -0.1300\n",
              " 1         Degrees of freedom =   398.0000\n",
              " 2                          t =    -0.1380\n",
              " 3      Two side test p value =     0.8903\n",
              " 4     Difference < 0 p value =     0.4452\n",
              " 5     Difference > 0 p value =     0.5548\n",
              " 6                  Cohen's d =    -0.0138\n",
              " 7                  Hedge's g =    -0.0138\n",
              " 8             Glass's delta1 =    -0.0139\n",
              " 9           Point-Biserial r =    -0.0069)"
            ]
          },
          "metadata": {},
          "execution_count": 6
        }
      ]
    },
    {
      "cell_type": "markdown",
      "source": [
        "*Paired Sample T test (With scipy.stats Library)*"
      ],
      "metadata": {
        "id": "KXL8hLmy7WTU"
      }
    },
    {
      "cell_type": "code",
      "source": [
        "#### Import necessary libraries if you are starting from scratch!\n",
        "import pandas as pd\n",
        "import numpy as np\n",
        "import matplotlib.pyplot as plt\n",
        "%matplotlib inline\n",
        "import scipy.stats as stats"
      ],
      "metadata": {
        "id": "PMB7dCXQ7QIE"
      },
      "execution_count": 7,
      "outputs": []
    },
    {
      "cell_type": "code",
      "source": [
        "# Load the dataset from GitHub URL\n",
        "url = \"https://raw.githubusercontent.com/KenDaupsey/Two-Sample-Tests-in-Python/main/weight_loss_data.csv\"\n",
        "df = pd.read_csv(url)\n",
        "\n",
        "# Display the first 5 rows of the dataset\n",
        "print(df.head())"
      ],
      "metadata": {
        "colab": {
          "base_uri": "https://localhost:8080/"
        },
        "id": "agj5Vozl7k1l",
        "outputId": "a0955eb3-ebb8-496d-80a1-44632b428d56"
      },
      "execution_count": 8,
      "outputs": [
        {
          "output_type": "stream",
          "name": "stdout",
          "text": [
            "   Before  After\n",
            "0    77.5   73.9\n",
            "1    74.3   71.0\n",
            "2    78.2   75.8\n",
            "3    82.6   77.7\n",
            "4    73.8   70.4\n"
          ]
        }
      ]
    },
    {
      "cell_type": "code",
      "source": [
        "import matplotlib.pyplot as plt\n",
        "from scipy.stats import ttest_rel\n",
        "\n",
        "# Assuming df is your DataFrame containing the 'Before' and 'After' columns\n",
        "\n",
        "# Perform the Paired t-test (parametric equivalence of Wilcoxon Sign Rank Test)\n",
        "t_stat, t_p_value = ttest_rel(df['Before'], df['After'])\n",
        "print(f'Paired t-test: Statistic={t_stat}, p-value={t_p_value:.4f}')\n",
        "\n",
        "# Plot the weight change distribution\n",
        "plt.figure(figsize=(10, 6))\n",
        "plt.hist(df['Before'], alpha=0.5, label='Before Program', bins=30)\n",
        "plt.hist(df['After'], alpha=0.5, label='After Program', bins=30)\n",
        "plt.xlabel('Weight')\n",
        "plt.ylabel('Frequency')\n",
        "plt.legend()\n",
        "plt.title('Weight Change Before and After the Program')\n",
        "plt.show()"
      ],
      "metadata": {
        "colab": {
          "base_uri": "https://localhost:8080/",
          "height": 581
        },
        "id": "MSIhFgQr7vgt",
        "outputId": "7cf5f400-862c-40b7-ed0f-16b19d9dfb9a"
      },
      "execution_count": 9,
      "outputs": [
        {
          "output_type": "stream",
          "name": "stdout",
          "text": [
            "Paired t-test: Statistic=57.632133265838675, p-value=0.0000\n"
          ]
        },
        {
          "output_type": "display_data",
          "data": {
            "text/plain": [
              "<Figure size 1000x600 with 1 Axes>"
            ],
            "image/png": "[encoded data removed]"
          },
          "metadata": {}
        }
      ]
    },
    {
      "cell_type": "markdown",
      "source": [
        "*Paired Sample T test (With Researchpy Library)*"
      ],
      "metadata": {
        "id": "mJJ7_NOY7-Zk"
      }
    },
    {
      "cell_type": "code",
      "source": [
        "### Install researchpy\n",
        "### !pip install researchpy"
      ],
      "metadata": {
        "id": "ZOlN0T0V76SJ"
      },
      "execution_count": 10,
      "outputs": []
    },
    {
      "cell_type": "code",
      "source": [
        "import researchpy as rp\n",
        "\n",
        "# Assuming df is your DataFrame containing the 'Before' and 'After' columns\n",
        "\n",
        "# Paired samples t-test\n",
        "des, res = rp.ttest(df['Before'], df['After'], paired=True)\n",
        "\n",
        "# Print the descriptive statistics\n",
        "print(des)\n",
        "\n",
        "# Print the test results\n",
        "print(res)"
      ],
      "metadata": {
        "colab": {
          "base_uri": "https://localhost:8080/"
        },
        "id": "Wf0IEt558H0m",
        "outputId": "82b81e85-c7a6-4234-b12c-3f26bb90156f"
      },
      "execution_count": 11,
      "outputs": [
        {
          "output_type": "stream",
          "name": "stdout",
          "text": [
            "  Variable      N    Mean        SD        SE  95% Conf.   Interval\n",
            "0   Before  500.0  75.036  4.907332  0.219463  74.604815  75.467185\n",
            "1    After  500.0  72.028  5.056956  0.226154  71.583669  72.472331\n",
            "2     diff  500.0   3.008  1.167073  0.052193   2.905455   3.110545\n",
            "            Paired samples t-test   results\n",
            "0  Difference (Before - After) =     3.0080\n",
            "1           Degrees of freedom =   499.0000\n",
            "2                            t =    57.6321\n",
            "3        Two side test p value =     0.0000\n",
            "4       Difference < 0 p value =     0.0000\n",
            "5       Difference > 0 p value =     1.0000\n",
            "6                    Cohen's d =     0.6038\n",
            "7                    Hedge's g =     0.6033\n",
            "8               Glass's delta1 =     0.6130\n",
            "9             Point-Biserial r =     0.9324\n"
          ]
        },
        {
          "output_type": "stream",
          "name": "stderr",
          "text": [
            "/usr/local/lib/python3.10/dist-packages/researchpy/ttest.py:38: FutureWarning: The series.append method is deprecated and will be removed from pandas in a future version. Use pandas.concat instead.\n",
            "  groups = group1.append(group2, ignore_index= True)\n",
            "/usr/local/lib/python3.10/dist-packages/researchpy/ttest.py:140: FutureWarning: The series.append method is deprecated and will be removed from pandas in a future version. Use pandas.concat instead.\n",
            "  groups = group1.append(group2, ignore_index= True)\n"
          ]
        }
      ]
    },
    {
      "cell_type": "markdown",
      "source": [
        "*Welch’s Test*"
      ],
      "metadata": {
        "id": "CnZi5p728Q-I"
      }
    },
    {
      "cell_type": "code",
      "source": [
        "# Welch's t-test procedure\n",
        "des, res = rp.ttest(df['Before'], df['After'], equal_variances=False)\n",
        "\n",
        "# Display the results\n",
        "print(des)\n",
        "print(res)"
      ],
      "metadata": {
        "colab": {
          "base_uri": "https://localhost:8080/"
        },
        "id": "50WgZD7-8Ms0",
        "outputId": "c0b73492-19c5-465a-b92e-d3a68040c700"
      },
      "execution_count": 12,
      "outputs": [
        {
          "output_type": "stream",
          "name": "stdout",
          "text": [
            "   Variable       N    Mean        SD        SE  95% Conf.   Interval\n",
            "0    Before   500.0  75.036  4.907332  0.219463  74.604815  75.467185\n",
            "1     After   500.0  72.028  5.056956  0.226154  71.583669  72.472331\n",
            "2  combined  1000.0  73.532  5.202575  0.164520  73.209156  73.854844\n",
            "             Satterthwaite t-test   results\n",
            "0  Difference (Before - After) =     3.0080\n",
            "1           Degrees of freedom =   997.1011\n",
            "2                            t =     9.5451\n",
            "3        Two side test p value =     0.0000\n",
            "4       Difference < 0 p value =     1.0000\n",
            "5       Difference > 0 p value =     0.0000\n",
            "6                    Cohen's d =     0.6037\n",
            "7                    Hedge's g =     0.6032\n",
            "8               Glass's delta1 =     0.6130\n",
            "9             Point-Biserial r =     0.2894\n"
          ]
        },
        {
          "output_type": "stream",
          "name": "stderr",
          "text": [
            "/usr/local/lib/python3.10/dist-packages/researchpy/ttest.py:38: FutureWarning: The series.append method is deprecated and will be removed from pandas in a future version. Use pandas.concat instead.\n",
            "  groups = group1.append(group2, ignore_index= True)\n"
          ]
        }
      ]
    },
    {
      "cell_type": "markdown",
      "source": [
        "*Mann-Whitney test*"
      ],
      "metadata": {
        "id": "h6BleoZk8axR"
      }
    },
    {
      "cell_type": "code",
      "source": [
        "### Import necessary libraries\n",
        "import pandas as pd\n",
        "from scipy.stats import mannwhitneyu\n",
        "import seaborn as sns\n",
        "import matplotlib.pyplot as plt"
      ],
      "metadata": {
        "id": "foGFZqiZ8WBD"
      },
      "execution_count": 13,
      "outputs": []
    },
    {
      "cell_type": "code",
      "source": [
        "# Load the dataset from GitHub URL\n",
        "url = \"https://raw.githubusercontent.com/KenDaupsey/Two-Sample-Tests-in-Python/main/physics%7Escores.csv\"\n",
        "df = pd.read_csv(url)\n",
        "\n",
        "# Display the first 5 rows of the dataset\n",
        "print(df.head())"
      ],
      "metadata": {
        "colab": {
          "base_uri": "https://localhost:8080/"
        },
        "id": "zpZiDwz78i9z",
        "outputId": "33950c66-47c4-4cb4-cce9-e1d80468d610"
      },
      "execution_count": 15,
      "outputs": [
        {
          "output_type": "stream",
          "name": "stdout",
          "text": [
            "    Group  Scores\n",
            "0  Group1      24\n",
            "1  Group1      30\n",
            "2  Group1      30\n",
            "3  Group1      31\n",
            "4  Group1      32\n"
          ]
        }
      ]
    },
    {
      "cell_type": "code",
      "source": [
        "# Assuming your DataFrame is named 'df10'\n",
        "# Selecting the 'Scores' for each group\n",
        "scores_group1 = df[df['Group'] == 'Group1']['Scores']\n",
        "scores_group2 = df[df['Group'] == 'Group2']['Scores']\n",
        "\n",
        "# Performing the Mann-Whitney U test\n",
        "statistic, p_value = mannwhitneyu(scores_group1, scores_group2)\n",
        "\n",
        "# Displaying the Mann-Whitney U test results with formatted p-value\n",
        "print(f'Mann-Whitney U Test:\\nStatistic={statistic}\\nP-value={p_value:.4f}')\n",
        "\n",
        "# Visualization using a boxplot\n",
        "plt.figure(figsize=(8, 6))\n",
        "sns.boxplot(x='Group', y='Scores', data=df)\n",
        "plt.title('Boxplot of Scores for Group1 and Group2')\n",
        "plt.show()"
      ],
      "metadata": {
        "colab": {
          "base_uri": "https://localhost:8080/",
          "height": 616
        },
        "id": "IdCBbLsu8xD8",
        "outputId": "78d98a57-2ab5-42ae-d8f9-294e6d817d40"
      },
      "execution_count": 16,
      "outputs": [
        {
          "output_type": "stream",
          "name": "stdout",
          "text": [
            "Mann-Whitney U Test:\n",
            "Statistic=3278.0\n",
            "P-value=0.0000\n"
          ]
        },
        {
          "output_type": "display_data",
          "data": {
            "text/plain": [
              "<Figure size 800x600 with 1 Axes>"
            ],
            "image/png": "[encoded data removed]"
          },
          "metadata": {}
        }
      ]
    },
    {
      "cell_type": "markdown",
      "source": [
        "*Chi-square test*"
      ],
      "metadata": {
        "id": "80JFGMsU9R41"
      }
    },
    {
      "cell_type": "code",
      "source": [
        "# Importing the required libraries\n",
        "import pandas as pd\n",
        "import numpy as np\n",
        "import matplotlib.pyplot as plt"
      ],
      "metadata": {
        "id": "RjgSw8ZJ8rVI"
      },
      "execution_count": 17,
      "outputs": []
    },
    {
      "cell_type": "code",
      "source": [
        "# Load the dataset from GitHub URL\n",
        "url = \"https://raw.githubusercontent.com/KenDaupsey/Two-Sample-Tests-in-Python/main/hsb2%7Edata.csv\"\n",
        "df = pd.read_csv(url)\n",
        "\n",
        "# Display the first 5 rows of the dataset\n",
        "print(df.head())"
      ],
      "metadata": {
        "colab": {
          "base_uri": "https://localhost:8080/"
        },
        "id": "EXLHLQlj9tdq",
        "outputId": "4cf85d1c-25fe-42c4-9e08-ba136fd3d636"
      },
      "execution_count": 18,
      "outputs": [
        {
          "output_type": "stream",
          "name": "stdout",
          "text": [
            "    id  female   race     ses  schtyp      prog  read  write  math  science  \\\n",
            "0   70    male  white     low  public   general    57     52    41       47   \n",
            "1  121  female  white  middle  public  vocation    68     59    53       63   \n",
            "2   86    male  white    high  public   general    44     33    54       58   \n",
            "3  141    male  white    high  public  vocation    63     44    47       53   \n",
            "4  172    male  white  middle  public  academic    47     52    57       53   \n",
            "\n",
            "   socst  \n",
            "0     57  \n",
            "1     61  \n",
            "2     31  \n",
            "3     56  \n",
            "4     61  \n"
          ]
        }
      ]
    },
    {
      "cell_type": "code",
      "source": [
        "### The Chi Square Procedure\n",
        "\n",
        "import pandas as pd\n",
        "from scipy.stats import chi2_contingency\n",
        "import matplotlib.pyplot as plt\n",
        "\n",
        "# Create a contingency table with row and column totals\n",
        "contingency_table = pd.crosstab(df['female'], df['race'], margins=True, margins_name='Total')\n",
        "\n",
        "# Display the contingency table with totals\n",
        "print(\"Contingency Table:\")\n",
        "print(contingency_table)\n",
        "\n",
        "# Perform chi-square test\n",
        "chi2, p_value, _, _ = chi2_contingency(contingency_table)\n",
        "\n",
        "# Display the results\n",
        "print(f\"\\nChi-square value: {chi2:.4f}\")\n",
        "print(f\"P-value: {p_value:.4f}\")\n",
        "\n",
        "# Create a bar plot to visualize the contingency table\n",
        "contingency_table.drop('Total', axis=1, inplace=True)  # Remove the 'Total' column for plotting\n",
        "contingency_table.plot(kind='bar', stacked=True)\n",
        "plt.ylabel('Count')\n",
        "plt.title('Contingency Table')\n",
        "plt.show()"
      ],
      "metadata": {
        "colab": {
          "base_uri": "https://localhost:8080/",
          "height": 662
        },
        "id": "2P96RpWH9y_g",
        "outputId": "4941adba-f745-4455-e36c-6403527c8de5"
      },
      "execution_count": 19,
      "outputs": [
        {
          "output_type": "stream",
          "name": "stdout",
          "text": [
            "Contingency Table:\n",
            "race    african-amer  asian  hispanic  white  Total\n",
            "female                                             \n",
            "female            13      8        11     77    109\n",
            "male               7      3        13     68     91\n",
            "Total             20     11        24    145    200\n",
            "\n",
            "Chi-square value: 3.2040\n",
            "P-value: 0.9209\n"
          ]
        },
        {
          "output_type": "display_data",
          "data": {
            "text/plain": [
              "<Figure size 640x480 with 1 Axes>"
            ],
            "image/png": "[encoded data removed]"
          },
          "metadata": {}
        }
      ]
    },
    {
      "cell_type": "markdown",
      "source": [
        "*Fisher's exact test*"
      ],
      "metadata": {
        "id": "aBCNeirZ-CyZ"
      }
    },
    {
      "cell_type": "code",
      "source": [
        "#Firstly, let’s create a copy of the dataset df for this procedure:\n",
        "df5= df.copy()"
      ],
      "metadata": {
        "id": "qB3OjM8H98Tt"
      },
      "execution_count": 20,
      "outputs": []
    },
    {
      "cell_type": "code",
      "source": [
        "### PROCEDURE TO REDUCE \"ses\" (Socioeconomic Status) to 2 CATEGORIES\n",
        "### GOOD PRACTICE FOR DATA MANIPULATION (ENGINEERING)!\n",
        "import pandas as pd\n",
        "from scipy.stats import fisher_exact\n",
        "\n",
        "# Assuming 'prog' and 'ses' are the variables of interest\n",
        "df5['ses_collapsed'] = df5['ses'].replace({'low': 'low_middle', 'middle': 'low_middle'})\n",
        "df5.head()"
      ],
      "metadata": {
        "colab": {
          "base_uri": "https://localhost:8080/",
          "height": 206
        },
        "id": "I5zyHBF3-Jzr",
        "outputId": "1096f73f-8757-40f4-c58f-142894f757b3"
      },
      "execution_count": 21,
      "outputs": [
        {
          "output_type": "execute_result",
          "data": {
            "text/plain": [
              "    id  female   race     ses  schtyp      prog  read  write  math  science  \\\n",
              "0   70    male  white     low  public   general    57     52    41       47   \n",
              "1  121  female  white  middle  public  vocation    68     59    53       63   \n",
              "2   86    male  white    high  public   general    44     33    54       58   \n",
              "3  141    male  white    high  public  vocation    63     44    47       53   \n",
              "4  172    male  white  middle  public  academic    47     52    57       53   \n",
              "\n",
              "   socst ses_collapsed  \n",
              "0     57    low_middle  \n",
              "1     61    low_middle  \n",
              "2     31          high  \n",
              "3     56          high  \n",
              "4     61    low_middle  "
            ],
            "text/html": [
              "\n",
              "  <div id=\"df-2de9b681-a59e-4b74-8cdb-16ab2b4dfe4a\" class=\"colab-df-container\">\n",
              "    <div>\n",
              "<style scoped>\n",
              "    .dataframe tbody tr th:only-of-type {\n",
              "        vertical-align: middle;\n",
              "    }\n",
              "\n",
              "    .dataframe tbody tr th {\n",
              "        vertical-align: top;\n",
              "    }\n",
              "\n",
              "    .dataframe thead th {\n",
              "        text-align: right;\n",
              "    }\n",
              "</style>\n",
              "<table border=\"1\" class=\"dataframe\">\n",
              "  <thead>\n",
              "    <tr style=\"text-align: right;\">\n",
              "      <th></th>\n",
              "      <th>id</th>\n",
              "      <th>female</th>\n",
              "      <th>race</th>\n",
              "      <th>ses</th>\n",
              "      <th>schtyp</th>\n",
              "      <th>prog</th>\n",
              "      <th>read</th>\n",
              "      <th>write</th>\n",
              "      <th>math</th>\n",
              "      <th>science</th>\n",
              "      <th>socst</th>\n",
              "      <th>ses_collapsed</th>\n",
              "    </tr>\n",
              "  </thead>\n",
              "  <tbody>\n",
              "    <tr>\n",
              "      <th>0</th>\n",
              "      <td>70</td>\n",
              "      <td>male</td>\n",
              "      <td>white</td>\n",
              "      <td>low</td>\n",
              "      <td>public</td>\n",
              "      <td>general</td>\n",
              "      <td>57</td>\n",
              "      <td>52</td>\n",
              "      <td>41</td>\n",
              "      <td>47</td>\n",
              "      <td>57</td>\n",
              "      <td>low_middle</td>\n",
              "    </tr>\n",
              "    <tr>\n",
              "      <th>1</th>\n",
              "      <td>121</td>\n",
              "      <td>female</td>\n",
              "      <td>white</td>\n",
              "      <td>middle</td>\n",
              "      <td>public</td>\n",
              "      <td>vocation</td>\n",
              "      <td>68</td>\n",
              "      <td>59</td>\n",
              "      <td>53</td>\n",
              "      <td>63</td>\n",
              "      <td>61</td>\n",
              "      <td>low_middle</td>\n",
              "    </tr>\n",
              "    <tr>\n",
              "      <th>2</th>\n",
              "      <td>86</td>\n",
              "      <td>male</td>\n",
              "      <td>white</td>\n",
              "      <td>high</td>\n",
              "      <td>public</td>\n",
              "      <td>general</td>\n",
              "      <td>44</td>\n",
              "      <td>33</td>\n",
              "      <td>54</td>\n",
              "      <td>58</td>\n",
              "      <td>31</td>\n",
              "      <td>high</td>\n",
              "    </tr>\n",
              "    <tr>\n",
              "      <th>3</th>\n",
              "      <td>141</td>\n",
              "      <td>male</td>\n",
              "      <td>white</td>\n",
              "      <td>high</td>\n",
              "      <td>public</td>\n",
              "      <td>vocation</td>\n",
              "      <td>63</td>\n",
              "      <td>44</td>\n",
              "      <td>47</td>\n",
              "      <td>53</td>\n",
              "      <td>56</td>\n",
              "      <td>high</td>\n",
              "    </tr>\n",
              "    <tr>\n",
              "      <th>4</th>\n",
              "      <td>172</td>\n",
              "      <td>male</td>\n",
              "      <td>white</td>\n",
              "      <td>middle</td>\n",
              "      <td>public</td>\n",
              "      <td>academic</td>\n",
              "      <td>47</td>\n",
              "      <td>52</td>\n",
              "      <td>57</td>\n",
              "      <td>53</td>\n",
              "      <td>61</td>\n",
              "      <td>low_middle</td>\n",
              "    </tr>\n",
              "  </tbody>\n",
              "</table>\n",
              "</div>\n",
              "    <div class=\"colab-df-buttons\">\n",
              "\n",
              "  <div class=\"colab-df-container\">\n",
              "    <button class=\"colab-df-convert\" onclick=\"convertToInteractive('df-2de9b681-a59e-4b74-8cdb-16ab2b4dfe4a')\"\n",
              "            title=\"Convert this dataframe to an interactive table.\"\n",
              "            style=\"display:none;\">\n",
              "\n",
              "  <svg xmlns=\"http://www.w3.org/2000/svg\" height=\"24px\" viewBox=\"0 -960 960 960\">\n",
              "    <path d=\"M120-120v-720h720v720H120Zm60-500h600v-160H180v160Zm220 220h160v-160H400v160Zm0 220h160v-160H400v160ZM180-400h160v-160H180v160Zm440 0h160v-160H620v160ZM180-180h160v-160H180v160Zm440 0h160v-160H620v160Z\"/>\n",
              "  </svg>\n",
              "    </button>\n",
              "\n",
              "  <style>\n",
              "    .colab-df-container {\n",
              "      display:flex;\n",
              "      gap: 12px;\n",
              "    }\n",
              "\n",
              "    .colab-df-convert {\n",
              "      background-color: #E8F0FE;\n",
              "      border: none;\n",
              "      border-radius: 50%;\n",
              "      cursor: pointer;\n",
              "      display: none;\n",
              "      fill: #1967D2;\n",
              "      height: 32px;\n",
              "      padding: 0 0 0 0;\n",
              "      width: 32px;\n",
              "    }\n",
              "\n",
              "    .colab-df-convert:hover {\n",
              "      background-color: #E2EBFA;\n",
              "      box-shadow: 0px 1px 2px rgba(60, 64, 67, 0.3), 0px 1px 3px 1px rgba(60, 64, 67, 0.15);\n",
              "      fill: #174EA6;\n",
              "    }\n",
              "\n",
              "    .colab-df-buttons div {\n",
              "      margin-bottom: 4px;\n",
              "    }\n",
              "\n",
              "    [theme=dark] .colab-df-convert {\n",
              "      background-color: #3B4455;\n",
              "      fill: #D2E3FC;\n",
              "    }\n",
              "\n",
              "    [theme=dark] .colab-df-convert:hover {\n",
              "      background-color: #434B5C;\n",
              "      box-shadow: 0px 1px 3px 1px rgba(0, 0, 0, 0.15);\n",
              "      filter: drop-shadow(0px 1px 2px rgba(0, 0, 0, 0.3));\n",
              "      fill: #FFFFFF;\n",
              "    }\n",
              "  </style>\n",
              "\n",
              "    <script>\n",
              "      const buttonEl =\n",
              "        document.querySelector('#df-2de9b681-a59e-4b74-8cdb-16ab2b4dfe4a button.colab-df-convert');\n",
              "      buttonEl.style.display =\n",
              "        google.colab.kernel.accessAllowed ? 'block' : 'none';\n",
              "\n",
              "      async function convertToInteractive(key) {\n",
              "        const element = document.querySelector('#df-2de9b681-a59e-4b74-8cdb-16ab2b4dfe4a');\n",
              "        const dataTable =\n",
              "          await google.colab.kernel.invokeFunction('convertToInteractive',\n",
              "                                                    [key], {});\n",
              "        if (!dataTable) return;\n",
              "\n",
              "        const docLinkHtml = 'Like what you see? Visit the ' +\n",
              "          '<a target=\"_blank\" href=https://colab.research.google.com/notebooks/data_table.ipynb>data table notebook</a>'\n",
              "          + ' to learn more about interactive tables.';\n",
              "        element.innerHTML = '';\n",
              "        dataTable['output_type'] = 'display_data';\n",
              "        await google.colab.output.renderOutput(dataTable, element);\n",
              "        const docLink = document.createElement('div');\n",
              "        docLink.innerHTML = docLinkHtml;\n",
              "        element.appendChild(docLink);\n",
              "      }\n",
              "    </script>\n",
              "  </div>\n",
              "\n",
              "\n",
              "<div id=\"df-7cb45e6c-f24c-41b7-8772-930a6061298e\">\n",
              "  <button class=\"colab-df-quickchart\" onclick=\"quickchart('df-7cb45e6c-f24c-41b7-8772-930a6061298e')\"\n",
              "            title=\"Suggest charts\"\n",
              "            style=\"display:none;\">\n",
              "\n",
              "<svg xmlns=\"http://www.w3.org/2000/svg\" height=\"24px\"viewBox=\"0 0 24 24\"\n",
              "     width=\"24px\">\n",
              "    <g>\n",
              "        <path d=\"M19 3H5c-1.1 0-2 .9-2 2v14c0 1.1.9 2 2 2h14c1.1 0 2-.9 2-2V5c0-1.1-.9-2-2-2zM9 17H7v-7h2v7zm4 0h-2V7h2v10zm4 0h-2v-4h2v4z\"/>\n",
              "    </g>\n",
              "</svg>\n",
              "  </button>\n",
              "\n",
              "<style>\n",
              "  .colab-df-quickchart {\n",
              "      --bg-color: #E8F0FE;\n",
              "      --fill-color: #1967D2;\n",
              "      --hover-bg-color: #E2EBFA;\n",
              "      --hover-fill-color: #174EA6;\n",
              "      --disabled-fill-color: #AAA;\n",
              "      --disabled-bg-color: #DDD;\n",
              "  }\n",
              "\n",
              "  [theme=dark] .colab-df-quickchart {\n",
              "      --bg-color: #3B4455;\n",
              "      --fill-color: #D2E3FC;\n",
              "      --hover-bg-color: #434B5C;\n",
              "      --hover-fill-color: #FFFFFF;\n",
              "      --disabled-bg-color: #3B4455;\n",
              "      --disabled-fill-color: #666;\n",
              "  }\n",
              "\n",
              "  .colab-df-quickchart {\n",
              "    background-color: var(--bg-color);\n",
              "    border: none;\n",
              "    border-radius: 50%;\n",
              "    cursor: pointer;\n",
              "    display: none;\n",
              "    fill: var(--fill-color);\n",
              "    height: 32px;\n",
              "    padding: 0;\n",
              "    width: 32px;\n",
              "  }\n",
              "\n",
              "  .colab-df-quickchart:hover {\n",
              "    background-color: var(--hover-bg-color);\n",
              "    box-shadow: 0 1px 2px rgba(60, 64, 67, 0.3), 0 1px 3px 1px rgba(60, 64, 67, 0.15);\n",
              "    fill: var(--button-hover-fill-color);\n",
              "  }\n",
              "\n",
              "  .colab-df-quickchart-complete:disabled,\n",
              "  .colab-df-quickchart-complete:disabled:hover {\n",
              "    background-color: var(--disabled-bg-color);\n",
              "    fill: var(--disabled-fill-color);\n",
              "    box-shadow: none;\n",
              "  }\n",
              "\n",
              "  .colab-df-spinner {\n",
              "    border: 2px solid var(--fill-color);\n",
              "    border-color: transparent;\n",
              "    border-bottom-color: var(--fill-color);\n",
              "    animation:\n",
              "      spin 1s steps(1) infinite;\n",
              "  }\n",
              "\n",
              "  @keyframes spin {\n",
              "    0% {\n",
              "      border-color: transparent;\n",
              "      border-bottom-color: var(--fill-color);\n",
              "      border-left-color: var(--fill-color);\n",
              "    }\n",
              "    20% {\n",
              "      border-color: transparent;\n",
              "      border-left-color: var(--fill-color);\n",
              "      border-top-color: var(--fill-color);\n",
              "    }\n",
              "    30% {\n",
              "      border-color: transparent;\n",
              "      border-left-color: var(--fill-color);\n",
              "      border-top-color: var(--fill-color);\n",
              "      border-right-color: var(--fill-color);\n",
              "    }\n",
              "    40% {\n",
              "      border-color: transparent;\n",
              "      border-right-color: var(--fill-color);\n",
              "      border-top-color: var(--fill-color);\n",
              "    }\n",
              "    60% {\n",
              "      border-color: transparent;\n",
              "      border-right-color: var(--fill-color);\n",
              "    }\n",
              "    80% {\n",
              "      border-color: transparent;\n",
              "      border-right-color: var(--fill-color);\n",
              "      border-bottom-color: var(--fill-color);\n",
              "    }\n",
              "    90% {\n",
              "      border-color: transparent;\n",
              "      border-bottom-color: var(--fill-color);\n",
              "    }\n",
              "  }\n",
              "</style>\n",
              "\n",
              "  <script>\n",
              "    async function quickchart(key) {\n",
              "      const quickchartButtonEl =\n",
              "        document.querySelector('#' + key + ' button');\n",
              "      quickchartButtonEl.disabled = true;  // To prevent multiple clicks.\n",
              "      quickchartButtonEl.classList.add('colab-df-spinner');\n",
              "      try {\n",
              "        const charts = await google.colab.kernel.invokeFunction(\n",
              "            'suggestCharts', [key], {});\n",
              "      } catch (error) {\n",
              "        console.error('Error during call to suggestCharts:', error);\n",
              "      }\n",
              "      quickchartButtonEl.classList.remove('colab-df-spinner');\n",
              "      quickchartButtonEl.classList.add('colab-df-quickchart-complete');\n",
              "    }\n",
              "    (() => {\n",
              "      let quickchartButtonEl =\n",
              "        document.querySelector('#df-7cb45e6c-f24c-41b7-8772-930a6061298e button');\n",
              "      quickchartButtonEl.style.display =\n",
              "        google.colab.kernel.accessAllowed ? 'block' : 'none';\n",
              "    })();\n",
              "  </script>\n",
              "</div>\n",
              "\n",
              "    </div>\n",
              "  </div>\n"
            ],
            "application/vnd.google.colaboratory.intrinsic+json": {
              "type": "dataframe",
              "variable_name": "df5",
              "summary": "{\n  \"name\": \"df5\",\n  \"rows\": 200,\n  \"fields\": [\n    {\n      \"column\": \"id\",\n      \"properties\": {\n        \"dtype\": \"number\",\n        \"std\": 57,\n        \"min\": 1,\n        \"max\": 200,\n        \"num_unique_values\": 200,\n        \"samples\": [\n          173,\n          115,\n          126\n        ],\n        \"semantic_type\": \"\",\n        \"description\": \"\"\n      }\n    },\n    {\n      \"column\": \"female\",\n      \"properties\": {\n        \"dtype\": \"category\",\n        \"num_unique_values\": 2,\n        \"samples\": [\n          \"female\",\n          \"male\"\n        ],\n        \"semantic_type\": \"\",\n        \"description\": \"\"\n      }\n    },\n    {\n      \"column\": \"race\",\n      \"properties\": {\n        \"dtype\": \"category\",\n        \"num_unique_values\": 4,\n        \"samples\": [\n          \"african-amer\",\n          \"asian\"\n        ],\n        \"semantic_type\": \"\",\n        \"description\": \"\"\n      }\n    },\n    {\n      \"column\": \"ses\",\n      \"properties\": {\n        \"dtype\": \"category\",\n        \"num_unique_values\": 3,\n        \"samples\": [\n          \"low\",\n          \"middle\"\n        ],\n        \"semantic_type\": \"\",\n        \"description\": \"\"\n      }\n    },\n    {\n      \"column\": \"schtyp\",\n      \"properties\": {\n        \"dtype\": \"category\",\n        \"num_unique_values\": 2,\n        \"samples\": [\n          \"private\",\n          \"public\"\n        ],\n        \"semantic_type\": \"\",\n        \"description\": \"\"\n      }\n    },\n    {\n      \"column\": \"prog\",\n      \"properties\": {\n        \"dtype\": \"category\",\n        \"num_unique_values\": 3,\n        \"samples\": [\n          \"general\",\n          \"vocation\"\n        ],\n        \"semantic_type\": \"\",\n        \"description\": \"\"\n      }\n    },\n    {\n      \"column\": \"read\",\n      \"properties\": {\n        \"dtype\": \"number\",\n        \"std\": 10,\n        \"min\": 28,\n        \"max\": 76,\n        \"num_unique_values\": 30,\n        \"samples\": [\n          46,\n          52\n        ],\n        \"semantic_type\": \"\",\n        \"description\": \"\"\n      }\n    },\n    {\n      \"column\": \"write\",\n      \"properties\": {\n        \"dtype\": \"number\",\n        \"std\": 9,\n        \"min\": 31,\n        \"max\": 67,\n        \"num_unique_values\": 29,\n        \"samples\": [\n          50,\n          67\n        ],\n        \"semantic_type\": \"\",\n        \"description\": \"\"\n      }\n    },\n    {\n      \"column\": \"math\",\n      \"properties\": {\n        \"dtype\": \"number\",\n        \"std\": 9,\n        \"min\": 33,\n        \"max\": 75,\n        \"num_unique_values\": 40,\n        \"samples\": [\n          64,\n          46\n        ],\n        \"semantic_type\": \"\",\n        \"description\": \"\"\n      }\n    },\n    {\n      \"column\": \"science\",\n      \"properties\": {\n        \"dtype\": \"number\",\n        \"std\": 9,\n        \"min\": 26,\n        \"max\": 74,\n        \"num_unique_values\": 34,\n        \"samples\": [\n          49,\n          56\n        ],\n        \"semantic_type\": \"\",\n        \"description\": \"\"\n      }\n    },\n    {\n      \"column\": \"socst\",\n      \"properties\": {\n        \"dtype\": \"number\",\n        \"std\": 10,\n        \"min\": 26,\n        \"max\": 71,\n        \"num_unique_values\": 22,\n        \"samples\": [\n          57,\n          26\n        ],\n        \"semantic_type\": \"\",\n        \"description\": \"\"\n      }\n    },\n    {\n      \"column\": \"ses_collapsed\",\n      \"properties\": {\n        \"dtype\": \"category\",\n        \"num_unique_values\": 2,\n        \"samples\": [\n          \"high\",\n          \"low_middle\"\n        ],\n        \"semantic_type\": \"\",\n        \"description\": \"\"\n      }\n    }\n  ]\n}"
            }
          },
          "metadata": {},
          "execution_count": 21
        }
      ]
    },
    {
      "cell_type": "code",
      "source": [
        "### Examining newly created variable\n",
        "df5['ses_collapsed'].value_counts()"
      ],
      "metadata": {
        "colab": {
          "base_uri": "https://localhost:8080/"
        },
        "id": "lq7QCIUZ-mNU",
        "outputId": "829b8938-94f1-4b1f-e5d7-37f98897a1c9"
      },
      "execution_count": 22,
      "outputs": [
        {
          "output_type": "execute_result",
          "data": {
            "text/plain": [
              "low_middle    142\n",
              "high           58\n",
              "Name: ses_collapsed, dtype: int64"
            ]
          },
          "metadata": {},
          "execution_count": 22
        }
      ]
    },
    {
      "cell_type": "code",
      "source": [
        "### Create contingency table\n",
        "contingency_table = pd.crosstab(df['female'], df5['ses_collapsed'])\n",
        "\n",
        "# Display the contingency table\n",
        "print(\"Contingency Table:\")\n",
        "print(contingency_table)"
      ],
      "metadata": {
        "colab": {
          "base_uri": "https://localhost:8080/"
        },
        "id": "0TqPrxh_-u8R",
        "outputId": "8080d203-4152-4a65-8aad-1aa262c5e5d9"
      },
      "execution_count": 23,
      "outputs": [
        {
          "output_type": "stream",
          "name": "stdout",
          "text": [
            "Contingency Table:\n",
            "ses_collapsed  high  low_middle\n",
            "female                         \n",
            "female           29          80\n",
            "male             29          62\n"
          ]
        }
      ]
    },
    {
      "cell_type": "code",
      "source": [
        "# Perform Fisher's exact test\n",
        "odds_ratio, p_value = fisher_exact(contingency_table)\n",
        "\n",
        "# Display the results\n",
        "print(f\"\\nOdds Ratio: {odds_ratio:.4f}\")\n",
        "print(f\"P-value: {p_value:.4f}\")"
      ],
      "metadata": {
        "colab": {
          "base_uri": "https://localhost:8080/"
        },
        "id": "nvkWOpDF-yhG",
        "outputId": "524baee4-f5a2-4622-f9f5-4ae665136140"
      },
      "execution_count": 24,
      "outputs": [
        {
          "output_type": "stream",
          "name": "stdout",
          "text": [
            "\n",
            "Odds Ratio: 0.7750\n",
            "P-value: 0.4373\n"
          ]
        }
      ]
    },
    {
      "cell_type": "code",
      "source": [],
      "metadata": {
        "id": "DSpk-waf-2MS"
      },
      "execution_count": 24,
      "outputs": []
    }
  ]
}